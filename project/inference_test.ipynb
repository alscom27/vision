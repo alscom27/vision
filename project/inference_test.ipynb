{
 "cells": [
  {
   "cell_type": "markdown",
   "id": "fae2708c",
   "metadata": {},
   "source": [
    "### 추론 테스트"
   ]
  },
  {
   "cell_type": "code",
   "execution_count": null,
   "id": "e718d61b",
   "metadata": {},
   "outputs": [],
   "source": [
    "import cv2\n",
    "import time\n",
    "from ultralytics import YOLO\n",
    "\n",
    "model = YOLO(\"학습된 모델 경로\")\n",
    "\n",
    "cam = cv2.VideoCapture(0)\n",
    "\n",
    "if not cam.isOpened():\n",
    "    print(\"Could not open cam\")\n",
    "    exit()\n",
    "\n",
    "while cam.isOpened():\n",
    "    fps_start = time.time()\n",
    "    \n",
    "    status, frame = cam.read()\n",
    "    \n",
    "    if not status:\n",
    "        break\n",
    "    \n",
    "    pred_start = time.time()\n",
    "    results = model(frame, vervose=False)\n",
    "    annotated_frame = results[0].plot()\n",
    "    \n",
    "    end_time = time.time()\n",
    "    pred_time = f'pred : {end_time - pred_start:.4f} seconds'\n",
    "    fps = f'{1000 / ((end_time - fps_start) * 1000):.2f}'\n",
    "    print(f'pred time : {pred_time}')\n",
    "    print(f'fps : {fps}')\n",
    "    \n",
    "    cv2.putText(annotated_frame, f'FPS: {fps}', (20, 40), cv2.FONT_HERSHEY_SIMPLEX, 1, (0,255,0), 2)\n",
    "    \n",
    "    cv2.imshow('opencv test', annotated_frame)\n",
    "    \n",
    "    if cv2.waitKey(1) & 0xFF == ord('q') :\n",
    "        break\n",
    "    \n",
    "cam.release()\n",
    "cv2.destroyAllWindows()"
   ]
  }
 ],
 "metadata": {
  "kernelspec": {
   "display_name": "dl",
   "language": "python",
   "name": "python3"
  },
  "language_info": {
   "name": "python",
   "version": "3.12.9"
  }
 },
 "nbformat": 4,
 "nbformat_minor": 5
}
