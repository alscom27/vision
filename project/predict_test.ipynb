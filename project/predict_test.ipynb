{
 "cells": [
  {
   "cell_type": "markdown",
   "id": "225d65fd",
   "metadata": {},
   "source": [
    "### Predict Test\n",
    "\n",
    "- firesmoke_detect_tuned2\n",
    "- firesmoke_yolov8s_tuned\n",
    "- firesmoke_seg_train"
   ]
  },
  {
   "cell_type": "markdown",
   "id": "d1fe6e0e",
   "metadata": {},
   "source": [
    "#### 단일 이미지 예측"
   ]
  },
  {
   "cell_type": "code",
   "execution_count": 6,
   "id": "4169b302",
   "metadata": {},
   "outputs": [
    {
     "name": "stdout",
     "output_type": "stream",
     "text": [
      "\n",
      "image 1/1 c:\\Users\\main\\workspace\\vision\\project\\imgs\\naroho.jpg: 768x512 1 fire, 1 smoke, 24.1ms\n",
      "Speed: 4.6ms preprocess, 24.1ms inference, 2.1ms postprocess per image at shape (1, 3, 768, 512)\n",
      "Results saved to \u001b[1mpredictions\\exp4_test\u001b[0m\n",
      "1 label saved to predictions\\exp4_test\\labels\n",
      "추론 시간: 0.139초\n"
     ]
    }
   ],
   "source": [
    "from ultralytics import YOLO\n",
    "import time\n",
    "\n",
    "# 1. 모델 로드\n",
    "model_path = \"runs/firesmoke_detect_tuned2/weights/best.pt\"  # 실험별로 경로 수정\n",
    "model = YOLO(model_path)\n",
    "\n",
    "# 2. 예측할 이미지 경로\n",
    "source = \"imgs/naroho.jpg\"\n",
    "\n",
    "# 3. 추론 시간 측정 시작\n",
    "start = time.time()\n",
    "\n",
    "# 4. 예측 수행\n",
    "results = model.predict(\n",
    "    source=source,\n",
    "    save=True,              # 예측 결과 이미지 저장\n",
    "    save_txt=True,          # 예측 박스 또는 마스크 좌표 저장\n",
    "    imgsz=768,              # 실험에 맞게 설정\n",
    "    conf=0.25,              # confidence threshold\n",
    "    iou=0.5,                # IoU threshold\n",
    "    device=0,               # GPU 사용\n",
    "    project=\"predictions\",  # 결과 저장 위치\n",
    "    name=\"exp4_test\"        # 실험별로 구분\n",
    ")\n",
    "\n",
    "# 5. 추론 시간 측정 종료\n",
    "end = time.time()\n",
    "print(f\"추론 시간: {end - start:.3f}초\")\n"
   ]
  },
  {
   "cell_type": "markdown",
   "id": "cda620aa",
   "metadata": {},
   "source": [
    "### OpenCV 웹캠 실시간 추론 + FPS 측정 + 평균 추론 시간\n",
    "model = YOLO(\"runs/firesmoke_detect_tuned2/weights/best.pt\")\n",
    "# - firesmoke_detect_tuned2\n",
    "# - firesmoke_yolov8s_tuned\n",
    "# - firesmoke_seg_train"
   ]
  },
  {
   "cell_type": "code",
   "execution_count": 2,
   "id": "dbc023bc",
   "metadata": {},
   "outputs": [
    {
     "name": "stdout",
     "output_type": "stream",
     "text": [
      "✅ 웹캠 0 번 열림\n",
      "❌ 웹캠 1 번 안 열림\n",
      "❌ 웹캠 2 번 안 열림\n",
      "❌ 웹캠 3 번 안 열림\n",
      "❌ 웹캠 4 번 안 열림\n"
     ]
    }
   ],
   "source": [
    "import cv2\n",
    "\n",
    "for i in range(5):\n",
    "    cap = cv2.VideoCapture(i)\n",
    "    if cap.isOpened():\n",
    "        print(f\"✅ 웹캠 {i} 번 열림\")\n",
    "        cap.release()\n",
    "    else:\n",
    "        print(f\"❌ 웹캠 {i} 번 안 열림\")\n"
   ]
  },
  {
   "cell_type": "code",
   "execution_count": 12,
   "id": "cd805db2",
   "metadata": {},
   "outputs": [
    {
     "name": "stdout",
     "output_type": "stream",
     "text": [
      "✅ 웹캠 실행 중... 'q' 키를 누르면 종료합니다.\n"
     ]
    },
    {
     "ename": "error",
     "evalue": "OpenCV(4.10.0) D:\\a\\opencv-python\\opencv-python\\opencv\\modules\\highgui\\src\\window.cpp:1301: error: (-2:Unspecified error) The function is not implemented. Rebuild the library with Windows, GTK+ 2.x or Cocoa support. If you are on Ubuntu or Debian, install libgtk2.0-dev and pkg-config, then re-run cmake or configure script in function 'cvShowImage'\n",
     "output_type": "error",
     "traceback": [
      "\u001b[31m---------------------------------------------------------------------------\u001b[39m",
      "\u001b[31merror\u001b[39m                                     Traceback (most recent call last)",
      "\u001b[36mCell\u001b[39m\u001b[36m \u001b[39m\u001b[32mIn[12]\u001b[39m\u001b[32m, line 37\u001b[39m\n\u001b[32m     33\u001b[39m cv2.putText(annotated_frame, \u001b[33mf\u001b[39m\u001b[33m\"\u001b[39m\u001b[33mFPS: \u001b[39m\u001b[38;5;132;01m{\u001b[39;00mfps\u001b[38;5;132;01m:\u001b[39;00m\u001b[33m.2f\u001b[39m\u001b[38;5;132;01m}\u001b[39;00m\u001b[33m\"\u001b[39m, (\u001b[32m10\u001b[39m, \u001b[32m30\u001b[39m),\n\u001b[32m     34\u001b[39m             cv2.FONT_HERSHEY_SIMPLEX, \u001b[32m1\u001b[39m, (\u001b[32m0\u001b[39m, \u001b[32m255\u001b[39m, \u001b[32m0\u001b[39m), \u001b[32m2\u001b[39m)\n\u001b[32m     36\u001b[39m \u001b[38;5;66;03m# 실제 화면에 출력\u001b[39;00m\n\u001b[32m---> \u001b[39m\u001b[32m37\u001b[39m \u001b[43mcv2\u001b[49m\u001b[43m.\u001b[49m\u001b[43mimshow\u001b[49m\u001b[43m(\u001b[49m\u001b[33;43m\"\u001b[39;49m\u001b[33;43m🔥 YOLO 실시간 탐지\u001b[39;49m\u001b[33;43m\"\u001b[39;49m\u001b[43m,\u001b[49m\u001b[43m \u001b[49m\u001b[43mannotated_frame\u001b[49m\u001b[43m)\u001b[49m\n\u001b[32m     39\u001b[39m \u001b[38;5;66;03m# 'q' 키 누르면 종료\u001b[39;00m\n\u001b[32m     40\u001b[39m \u001b[38;5;28;01mif\u001b[39;00m cv2.waitKey(\u001b[32m1\u001b[39m) & \u001b[32m0xFF\u001b[39m == \u001b[38;5;28mord\u001b[39m(\u001b[33m'\u001b[39m\u001b[33mq\u001b[39m\u001b[33m'\u001b[39m):\n",
      "\u001b[36mFile \u001b[39m\u001b[32mc:\\Users\\main\\miniconda3\\envs\\dl\\Lib\\site-packages\\ultralytics\\utils\\patches.py:87\u001b[39m, in \u001b[36mimshow\u001b[39m\u001b[34m(winname, mat)\u001b[39m\n\u001b[32m     69\u001b[39m \u001b[38;5;28;01mdef\u001b[39;00m\u001b[38;5;250m \u001b[39m\u001b[34mimshow\u001b[39m(winname: \u001b[38;5;28mstr\u001b[39m, mat: np.ndarray) -> \u001b[38;5;28;01mNone\u001b[39;00m:\n\u001b[32m     70\u001b[39m \u001b[38;5;250m    \u001b[39m\u001b[33;03m\"\"\"\u001b[39;00m\n\u001b[32m     71\u001b[39m \u001b[33;03m    Display an image in the specified window with multilanguage window name support.\u001b[39;00m\n\u001b[32m     72\u001b[39m \n\u001b[32m   (...)\u001b[39m\u001b[32m     85\u001b[39m \u001b[33;03m        >>> imshow(\"Example Window\", img)  # Display the image\u001b[39;00m\n\u001b[32m     86\u001b[39m \u001b[33;03m    \"\"\"\u001b[39;00m\n\u001b[32m---> \u001b[39m\u001b[32m87\u001b[39m     \u001b[43m_imshow\u001b[49m\u001b[43m(\u001b[49m\u001b[43mwinname\u001b[49m\u001b[43m.\u001b[49m\u001b[43mencode\u001b[49m\u001b[43m(\u001b[49m\u001b[33;43m\"\u001b[39;49m\u001b[33;43municode_escape\u001b[39;49m\u001b[33;43m\"\u001b[39;49m\u001b[43m)\u001b[49m\u001b[43m.\u001b[49m\u001b[43mdecode\u001b[49m\u001b[43m(\u001b[49m\u001b[43m)\u001b[49m\u001b[43m,\u001b[49m\u001b[43m \u001b[49m\u001b[43mmat\u001b[49m\u001b[43m)\u001b[49m\n",
      "\u001b[31merror\u001b[39m: OpenCV(4.10.0) D:\\a\\opencv-python\\opencv-python\\opencv\\modules\\highgui\\src\\window.cpp:1301: error: (-2:Unspecified error) The function is not implemented. Rebuild the library with Windows, GTK+ 2.x or Cocoa support. If you are on Ubuntu or Debian, install libgtk2.0-dev and pkg-config, then re-run cmake or configure script in function 'cvShowImage'\n"
     ]
    }
   ],
   "source": [
    "import cv2\n",
    "import time\n",
    "from ultralytics import YOLO\n",
    "\n",
    "# YOLO 모델 불러오기\n",
    "model = YOLO(\"runs/firesmoke_detect_tuned2/weights/best.pt\")\n",
    "\n",
    "# 웹캠 열기\n",
    "cap = cv2.VideoCapture(0)\n",
    "if not cap.isOpened():\n",
    "    print(\"❌ 웹캠 열기 실패\")\n",
    "    exit()\n",
    "\n",
    "# 해상도 설정 (선택)\n",
    "cap.set(cv2.CAP_PROP_FRAME_WIDTH, 640)\n",
    "cap.set(cv2.CAP_PROP_FRAME_HEIGHT, 480)\n",
    "\n",
    "print(\"✅ 웹캠 실행 중... 'q' 키를 누르면 종료합니다.\")\n",
    "\n",
    "# 프레임 처리\n",
    "while True:\n",
    "    ret, frame = cap.read()\n",
    "    if not ret:\n",
    "        print(\"❌ 프레임 읽기 실패\")\n",
    "        break\n",
    "\n",
    "    # YOLO 추론\n",
    "    results = model(frame, conf=0.6, verbose=False)[0]\n",
    "    annotated_frame = results.plot()\n",
    "\n",
    "    # FPS 텍스트 추가\n",
    "    fps = cap.get(cv2.CAP_PROP_FPS)\n",
    "    cv2.putText(annotated_frame, f\"FPS: {fps:.2f}\", (10, 30),\n",
    "                cv2.FONT_HERSHEY_SIMPLEX, 1, (0, 255, 0), 2)\n",
    "\n",
    "    # 실제 화면에 출력\n",
    "    cv2.imshow(\"🔥 YOLO 실시간 탐지\", annotated_frame)\n",
    "\n",
    "    # 'q' 키 누르면 종료\n",
    "    if cv2.waitKey(1) & 0xFF == ord('q'):\n",
    "        break\n",
    "\n",
    "cap.release()\n",
    "cv2.destroyAllWindows()\n"
   ]
  },
  {
   "cell_type": "code",
   "execution_count": 14,
   "id": "292335dd",
   "metadata": {},
   "outputs": [
    {
     "name": "stderr",
     "output_type": "stream",
     "text": [
      "2025-06-12 16:07:21.301 WARNING streamlit.runtime.scriptrunner_utils.script_run_context: Thread 'MainThread': missing ScriptRunContext! This warning can be ignored when running in bare mode.\n",
      "2025-06-12 16:07:21.361 \n",
      "  \u001b[33m\u001b[1mWarning:\u001b[0m to view this Streamlit app on a browser, run it with the following\n",
      "  command:\n",
      "\n",
      "    streamlit run c:\\Users\\main\\miniconda3\\envs\\dl\\Lib\\site-packages\\ipykernel_launcher.py [ARGUMENTS]\n",
      "2025-06-12 16:07:21.362 Thread 'MainThread': missing ScriptRunContext! This warning can be ignored when running in bare mode.\n",
      "2025-06-12 16:07:21.362 Thread 'MainThread': missing ScriptRunContext! This warning can be ignored when running in bare mode.\n",
      "2025-06-12 16:07:21.363 Thread 'MainThread': missing ScriptRunContext! This warning can be ignored when running in bare mode.\n",
      "2025-06-12 16:07:21.363 Thread 'MainThread': missing ScriptRunContext! This warning can be ignored when running in bare mode.\n",
      "2025-06-12 16:07:21.364 Thread 'MainThread': missing ScriptRunContext! This warning can be ignored when running in bare mode.\n",
      "2025-06-12 16:07:21.365 Thread 'MainThread': missing ScriptRunContext! This warning can be ignored when running in bare mode.\n",
      "2025-06-12 16:07:21.365 Thread 'MainThread': missing ScriptRunContext! This warning can be ignored when running in bare mode.\n",
      "2025-06-12 16:07:21.366 Thread 'MainThread': missing ScriptRunContext! This warning can be ignored when running in bare mode.\n",
      "2025-06-12 16:07:21.366 Thread 'MainThread': missing ScriptRunContext! This warning can be ignored when running in bare mode.\n"
     ]
    }
   ],
   "source": [
    "import streamlit as st\n",
    "import cv2\n",
    "from ultralytics import YOLO\n",
    "\n",
    "st.title(\"🔥 YOLOv8 실시간 화재/연기 탐지\")\n",
    "run = st.checkbox(\"▶️ 웹캠 실행\")\n",
    "FRAME_WINDOW = st.image([])\n",
    "\n",
    "# YOLO 모델 로드\n",
    "model = YOLO(\"runs/firesmoke_detect_tuned2/weights/best.pt\")\n",
    "cap = cv2.VideoCapture(0)\n",
    "\n",
    "while run:\n",
    "    ret, frame = cap.read()\n",
    "    if not ret:\n",
    "        st.warning(\"❌ 프레임 읽기 실패\")\n",
    "        break\n",
    "\n",
    "    # 추론 수행\n",
    "    results = model(frame, conf=0.6, iou=0.5, verbose=False)[0]\n",
    "    annotated = results.plot()\n",
    "\n",
    "    # Streamlit에 프레임 출력\n",
    "    FRAME_WINDOW.image(annotated, channels=\"BGR\")\n",
    "\n",
    "cap.release()\n"
   ]
  }
 ],
 "metadata": {
  "kernelspec": {
   "display_name": "dl",
   "language": "python",
   "name": "python3"
  },
  "language_info": {
   "codemirror_mode": {
    "name": "ipython",
    "version": 3
   },
   "file_extension": ".py",
   "mimetype": "text/x-python",
   "name": "python",
   "nbconvert_exporter": "python",
   "pygments_lexer": "ipython3",
   "version": "3.12.9"
  }
 },
 "nbformat": 4,
 "nbformat_minor": 5
}
