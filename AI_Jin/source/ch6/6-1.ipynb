{
  "nbformat": 4,
  "nbformat_minor": 0,
  "metadata": {
    "colab": {
      "provenance": []
    },
    "kernelspec": {
      "name": "python3",
      "display_name": "Python 3"
    },
    "language_info": {
      "name": "python"
    }
  },
  "cells": [
    {
      "cell_type": "code",
      "execution_count": null,
      "metadata": {
        "id": "9fgyKK0ryL2G"
      },
      "outputs": [],
      "source": [
        "# 두개의 박스가 서로 교차하는지를 판단하는 함수\n",
        "def _is_box_intersect(box1, box2):\n",
        "    if (\n",
        "        abs(box1[0] - box2[0]) < box1[2]/2 + box2[2]/2\n",
        "        and abs(box1[1] - box2[1]) < box1[3]/2 + box2[3]/2\n",
        "    ):\n",
        "        return True\n",
        "    else:\n",
        "        return False\n",
        "\n",
        "# 박스의 영역을 계산하는 박스 box의 좌표 체계는 [center_x, center_y, width, height] 이고, 상대 좌표 (YOLO 라벨링 방법임)\n",
        "def _get_area(box):\t\t\t# area of box n.\n",
        "    return box[2] * box[3]\n",
        "\n",
        "# 교집합의 영역을 구하는 함수\n",
        "def _get_intersection_area(box1, box2):\n",
        "    return abs(max(box1[0], box2[0]) - min(box1[0] + box1[2], box2[0] + box2[2])) * abs(\n",
        "        max(box1[1], box2[1]) - min(box1[1] + box1[3], box2[1] + box2[3])\n",
        "    )\n",
        "\n",
        "#합집합의 영역을 구하는 함수\n",
        "def _get_union_area(box1, box2, inter_area=None):\n",
        "    area_a = _get_area(box1)\n",
        "    area_b = _get_area(box2)\n",
        "    if inter_area is None:\n",
        "        inter_area = _get_intersection_area(box1, box2)\n",
        "\n",
        "    return float(area_a + area_b - inter_area)\n",
        "\n",
        "#IOU를 계산하는 함수\n",
        "def iou(box1, box2):\n",
        "    # if boxes do not intersect\n",
        "    if _is_box_intersect(box1, box2) is False:\n",
        "        return 0\n",
        "\n",
        "    inter_area = _get_intersection_area(box1, box2)\n",
        "    union = _get_union_area(box1, box2, inter_area=inter_area)\n",
        "\n",
        "    # intersection over union\n",
        "    iou = inter_area / union\n",
        "    if iou < 0:\n",
        "        iou = 0\n",
        "    assert iou >= 0, f\"Measure is wrong! : IoU Value is [{iou}].\"\n",
        "    return iou"
      ]
    },
    {
      "cell_type": "code",
      "source": [
        "# 테스트 코드\n",
        "box1 = (0.3, 0.3, 0.1, 0.1)        # Red\n",
        "box2 = (0.31, 0.28, 0.14, 0.13)    # Green\n",
        "\n",
        "\n",
        "print(iou(box1, box2))"
      ],
      "metadata": {
        "id": "1D6qf5KVyM6A",
        "colab": {
          "base_uri": "https://localhost:8080/"
        },
        "outputId": "912f4315-07f7-4989-95f7-097fb4096a1b"
      },
      "execution_count": null,
      "outputs": [
        {
          "output_type": "stream",
          "name": "stdout",
          "text": [
            "0.46875000000000044\n"
          ]
        }
      ]
    },
    {
      "cell_type": "code",
      "source": [
        "# NMS 시각화\n",
        "import cv2\n",
        "import numpy as np\n",
        "import matplotlib.pyplot as plt\n",
        "\n",
        "# 두개의 박스가 서로 교차하는지를 판단하는 함수\n",
        "def _is_box_intersect(box1, box2):\n",
        "    return (\n",
        "        abs(box1[0] - box2[0]) < box1[2] + box2[2]\n",
        "        and abs(box1[1] - box2[1]) < box1[3] + box2[3]\n",
        "    )\n",
        "\n",
        "def _get_area(box):\n",
        "    return box[2] * box[3]\n",
        "\n",
        "def _get_intersection_area(box1, box2):\n",
        "    return abs(max(box1[0], box2[0]) - min(box1[0] + box1[2], box2[0] + box2[2])) * abs(\n",
        "        max(box1[1], box2[1]) - min(box1[1] + box1[3], box2[1] + box2[3])\n",
        "    )\n",
        "\n",
        "def _get_union_area(box1, box2, inter_area=None):\n",
        "    area_a = _get_area(box1)\n",
        "    area_b = _get_area(box2)\n",
        "    if inter_area is None:\n",
        "        inter_area = _get_intersection_area(box1, box2)\n",
        "    return float(area_a + area_b - inter_area)\n",
        "\n",
        "def iou(box1, box2):\n",
        "    if not _is_box_intersect(box1, box2):\n",
        "        return 0\n",
        "    inter_area = _get_intersection_area(box1, box2)\n",
        "    union = _get_union_area(box1, box2, inter_area=inter_area)\n",
        "    iou_val = inter_area / union\n",
        "    return max(iou_val, 0)\n",
        "\n",
        "def nms(boxes, iou_thres=0.4):\n",
        "    elems = np.array(boxes)\n",
        "    print(\"\\nBefore Araange\")\n",
        "    print(elems)\n",
        "\n",
        "    # 넘파이의 argsort를 통해서 정렬 수행\n",
        "    sorted_index = np.argsort(elems[:, -1])[::-1]\n",
        "    sorted_boxes = elems[sorted_index]\n",
        "\n",
        "    print('\\nAfter Arrange')\n",
        "    print(sorted_boxes)\n",
        "\n",
        "    answer = [True for _ in range(sorted_boxes.shape[0])]\n",
        "    print(\"\\nBefore NMS Answer :\", answer)\n",
        "\n",
        "    for i in range(sorted_boxes.shape[0]):\n",
        "        if not answer[i]:\n",
        "            continue\n",
        "        for j in range(i + 1, sorted_boxes.shape[0]):\n",
        "            iou_val = iou(sorted_boxes[i], sorted_boxes[j])\n",
        "            print(f\"{i} vs {j} = iou {round(iou_val, 3)}\")\n",
        "            if iou_val >= iou_thres:\n",
        "                answer[j] = False\n",
        "                print(f\"Index {j} is False.\")\n",
        "    print(\"\\nAfter NMS Answer :\", answer)\n",
        "    return answer, sorted_boxes, sorted_index"
      ],
      "metadata": {
        "id": "xHLB10IOyNf7"
      },
      "execution_count": null,
      "outputs": []
    },
    {
      "cell_type": "code",
      "source": [
        "colorset = [\n",
        "    (0, 0, 255), (0, 255, 0), (255, 0, 0),\n",
        "    (255, 255, 0), (255, 0, 255), (0, 255, 255)\n",
        "]\n",
        "\n",
        "boxes = [\n",
        "    [0.3, 0.3, 0.1, 0.1, 0.9],\n",
        "    [0.31, 0.28, 0.14, 0.13, 0.5],\n",
        "    [0.28, 0.28, 0.09, 0.11, 0.3],\n",
        "    [0.75, 0.65, 0.2, 0.2, 0.99],\n",
        "    [0.7, 0.63, 0.22, 0.18, 0.35],\n",
        "    [0.75, 0.62, 0.22, 0.22, 0.77],\n",
        "]\n",
        "\n",
        "width, height = 600, 600\n",
        "canvas = np.zeros((width, height, 3), dtype=np.uint8)\n",
        "canvas_copy = canvas.copy()\n",
        "\n",
        "for index, box in enumerate(boxes):\n",
        "    pt1 = (int(width * (box[0] - box[2]/2)), int(height * (box[1] - box[3]/2)))\n",
        "    pt2 = (int(width * (box[0] + box[2]/2)), int(height * (box[1] + box[3]/2)))\n",
        "    cv2.rectangle(canvas, pt1, pt2, colorset[index], 2)\n",
        "\n",
        "answer, sorted_boxes, sorted_index = nms(boxes, iou_thres=0.4)\n",
        "\n",
        "for index, (sbox, sidx) in enumerate(zip(sorted_boxes, sorted_index)):\n",
        "    if answer[index]:\n",
        "        pt1 = (int(width * (sbox[0] - sbox[2]/2)), int(height * (sbox[1] - sbox[3]/2)))\n",
        "        pt2 = (int(width * (sbox[0] + sbox[2]/2)), int(height * (sbox[1] + sbox[3]/2)))\n",
        "        cv2.rectangle(canvas_copy, pt1, pt2, colorset[sidx], 2)\n",
        "\n",
        "fig, axs = plt.subplots(1, 2, figsize=(12, 6))\n",
        "axs[0].imshow(cv2.cvtColor(canvas, cv2.COLOR_BGR2RGB))\n",
        "axs[0].set_title(\"Before NMS\")\n",
        "axs[0].axis('off')\n",
        "\n",
        "axs[1].imshow(cv2.cvtColor(canvas_copy, cv2.COLOR_BGR2RGB))\n",
        "axs[1].set_title(\"After NMS\")\n",
        "axs[1].axis('off')\n",
        "\n",
        "plt.show()"
      ],
      "metadata": {
        "id": "OO6wNddjyqSu",
        "colab": {
          "base_uri": "https://localhost:8080/",
          "height": 1000
        },
        "outputId": "af211b39-5fdd-4597-99a3-ea688b89671a"
      },
      "execution_count": null,
      "outputs": [
        {
          "output_type": "stream",
          "name": "stdout",
          "text": [
            "\n",
            "Before Araange\n",
            "[[0.3  0.3  0.1  0.1  0.9 ]\n",
            " [0.31 0.28 0.14 0.13 0.5 ]\n",
            " [0.28 0.28 0.09 0.11 0.3 ]\n",
            " [0.75 0.65 0.2  0.2  0.99]\n",
            " [0.7  0.63 0.22 0.18 0.35]\n",
            " [0.75 0.62 0.22 0.22 0.77]]\n",
            "\n",
            "After Arrange\n",
            "[[0.75 0.65 0.2  0.2  0.99]\n",
            " [0.3  0.3  0.1  0.1  0.9 ]\n",
            " [0.75 0.62 0.22 0.22 0.77]\n",
            " [0.31 0.28 0.14 0.13 0.5 ]\n",
            " [0.7  0.63 0.22 0.18 0.35]\n",
            " [0.28 0.28 0.09 0.11 0.3 ]]\n",
            "\n",
            "Before NMS Answer : [True, True, True, True, True, True]\n",
            "0 vs 1 = iou 0\n",
            "0 vs 2 = iou 0.754\n",
            "Index 2 is False.\n",
            "0 vs 3 = iou 0\n",
            "0 vs 4 = iou 0.519\n",
            "Index 4 is False.\n",
            "0 vs 5 = iou 0\n",
            "1 vs 2 = iou 0\n",
            "1 vs 3 = iou 0.469\n",
            "Index 3 is False.\n",
            "1 vs 4 = iou 0\n",
            "1 vs 5 = iou 0.463\n",
            "Index 5 is False.\n",
            "\n",
            "After NMS Answer : [True, True, False, False, False, False]\n"
          ]
        },
        {
          "output_type": "display_data",
          "data": {
            "text/plain": [
              "<Figure size 1200x600 with 2 Axes>"
            ],
            "image/png": "[encoded data removed]"
          },
          "metadata": {}
        }
      ]
    }
  ]
}