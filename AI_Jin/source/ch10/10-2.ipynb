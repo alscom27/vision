{
  "nbformat": 4,
  "nbformat_minor": 0,
  "metadata": {
    "colab": {
      "provenance": []
    },
    "kernelspec": {
      "name": "python3",
      "display_name": "Python 3"
    },
    "language_info": {
      "name": "python"
    }
  },
  "cells": [
    {
      "cell_type": "code",
      "execution_count": 1,
      "metadata": {
        "id": "tKV_-mAAUx0A",
        "outputId": "6b338a0f-21f9-4713-c34f-f67ca38b5d4e",
        "colab": {
          "base_uri": "https://localhost:8080/"
        }
      },
      "outputs": [
        {
          "output_type": "stream",
          "name": "stdout",
          "text": [
            "Downloading data from https://storage.googleapis.com/tensorflow/tf-keras-datasets/mnist.npz\n",
            "\u001b[1m11490434/11490434\u001b[0m \u001b[32m━━━━━━━━━━━━━━━━━━━━\u001b[0m\u001b[37m\u001b[0m \u001b[1m0s\u001b[0m 0us/step\n"
          ]
        }
      ],
      "source": [
        "import numpy as np\n",
        "from tensorflow.keras.datasets import mnist\n",
        "import matplotlib.pyplot as plt\n",
        "\n",
        "(x_train,y_train),(x_test,y_test)=mnist.load_data()\t# 데이터셋 구성\n",
        "X=x_train[np.isin(y_train,[0])]\t\t\t\t# 0부류만 추출\n",
        "X=X.reshape((X.shape[0],28*28))\n",
        "\n",
        "m=np.mean(X,axis=0)\t\t\t\t\t# 모델 학습\n",
        "cv=np.cov(X,rowvar=False)\n",
        "\n",
        "gen=np.random.multivariate_normal(m,cv,5)\t# 샘플 생성"
      ]
    },
    {
      "cell_type": "code",
      "source": [
        "plt.figure(figsize=(10,4))\t\t\t\t# 샘플 그리기\n",
        "for i in range(5):\n",
        "    plt.subplot(1,5,i+1)\n",
        "    plt.imshow(gen[i].reshape((28,28)),cmap='gray'); plt.xticks([]); plt.yticks([])"
      ],
      "metadata": {
        "id": "FqTgXH5VUz2I",
        "outputId": "855f7fe8-2431-4810-9b9e-90a2b7600c7a",
        "colab": {
          "base_uri": "https://localhost:8080/",
          "height": 170
        }
      },
      "execution_count": 2,
      "outputs": [
        {
          "output_type": "display_data",
          "data": {
            "text/plain": [
              "<Figure size 1000x400 with 5 Axes>"
            ],
            "image/png": "[encoded data removed]"
          },
          "metadata": {}
        }
      ]
    }
  ]
}