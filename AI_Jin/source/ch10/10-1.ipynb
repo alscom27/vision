{
  "nbformat": 4,
  "nbformat_minor": 0,
  "metadata": {
    "colab": {
      "provenance": [],
      "gpuType": "T4"
    },
    "kernelspec": {
      "name": "python3",
      "display_name": "Python 3"
    },
    "language_info": {
      "name": "python"
    },
    "accelerator": "GPU"
  },
  "cells": [
    {
      "cell_type": "code",
      "execution_count": 1,
      "metadata": {
        "id": "n0vt1e2hUrQg",
        "colab": {
          "base_uri": "https://localhost:8080/"
        },
        "outputId": "3381ed23-62a7-42a4-c449-364bf9f4720b"
      },
      "outputs": [
        {
          "output_type": "stream",
          "name": "stdout",
          "text": [
            "[[172.19041341  77.10097131]\n",
            " [173.87671836  63.87243795]\n",
            " [163.1074747   57.82464912]\n",
            " [189.15953862  96.73675026]\n",
            " [176.55624609  78.05946347]]\n"
          ]
        }
      ],
      "source": [
        "import numpy as np\n",
        "\n",
        "X=np.array([[169,70],[172,68],[175,78],[163,58],[180,80],[159,76],[158,52],[173,69],[180,75],[155,50],[187,90],[170,66]])\n",
        "\n",
        "m=np.mean(X,axis=0)\t\t\t\t\t# 모델 학습\n",
        "cv=np.cov(X,rowvar=False)\n",
        "\n",
        "gen=np.random.multivariate_normal(m,cv,5)\t# 샘플 생성\n",
        "\n",
        "print(gen)"
      ]
    }
  ]
}